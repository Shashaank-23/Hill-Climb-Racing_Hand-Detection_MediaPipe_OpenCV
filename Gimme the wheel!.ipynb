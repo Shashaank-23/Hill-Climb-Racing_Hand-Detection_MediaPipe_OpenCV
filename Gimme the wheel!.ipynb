{
 "cells": [
  {
   "cell_type": "code",
   "execution_count": null,
   "id": "3eb21bc4",
   "metadata": {
    "collapsed": true
   },
   "outputs": [],
   "source": [
    "#INSTALLING REQUIRED DEPENDENCIES\n",
    "!pip install mediapipe opencv-python \n",
    "!pip install pyautogui"
   ]
  },
  {
   "cell_type": "code",
   "execution_count": 1,
   "id": "d0131d84",
   "metadata": {},
   "outputs": [],
   "source": [
    "import numpy as np\n",
    "import mediapipe as mp\n",
    "import cv2\n",
    "\n",
    "import pyautogui"
   ]
  },
  {
   "cell_type": "code",
   "execution_count": null,
   "id": "0816cb90",
   "metadata": {},
   "outputs": [],
   "source": [
    "mp_drawing = mp.solutions.drawing_utils\n",
    "mp_drawing_styles = mp.solutions.drawing_styles\n",
    "mp_hands = mp.solutions.hands\n",
    "\n",
    "cap = cv2.VideoCapture(0)\n",
    "with mp_hands.Hands(model_complexity = 0, min_detection_confidence = 0.8, min_tracking_confidence = 0.5) as hands:\n",
    "    while cap.isOpened():\n",
    "        ret, frame = cap.read() \n",
    "\n",
    "        # CONVERTING BGR IMAGE TO RGB\n",
    "        image = cv2.cvtColor(frame, cv2.COLOR_BGR2RGB)\n",
    "        h,w,c = image.shape\n",
    "\n",
    "        #FLIPPING THE IMAGE HORIZONTALLY \n",
    "        image = cv2.flip(image, 1)\n",
    "\n",
    "        #IMPROVING PERFORMANCE \n",
    "        image.flags.writeable = False \n",
    "\n",
    "        #PROCESSING THE IMAGE AND FINDING HANDS  \n",
    "        results = hands.process(image)\n",
    "\n",
    "        image.flags.writeable = True\n",
    "        image = cv2.cvtColor(image, cv2.COLOR_RGB2BGR)\n",
    "        print(results)\n",
    "\n",
    "        if results.multi_hand_landmarks:\n",
    "            for num,hand in enumerate(results.multi_hand_landmarks):\n",
    "                mp_drawing.draw_landmarks(image, hand, mp_hands.HAND_CONNECTIONS,\n",
    "                                          mp_drawing.DrawingSpec(color = (1, 1, 1), thickness = 2, circle_radius = 4),\n",
    "                                          mp_drawing.DrawingSpec(color = (1, 1, 1), thickness = 2, circle_radius = 2),\n",
    "                                         )\n",
    "                \n",
    "                index_finger_tip = hand.landmark[0]\n",
    "        \n",
    "                index_finger_tip_x = index_finger_tip.x * w\n",
    "                index_finger_tip_y = index_finger_tip.y * w\n",
    "        \n",
    "                if index_finger_tip_x > w/2:\n",
    "                    cv2.putText(image, \"GAS\", (500, 70), cv2.FONT_HERSHEY_SIMPLEX, 1.5, (0,255,0), 2)\n",
    "                    pyautogui.keyDown('right')\n",
    "                    pyautogui.keyUp('left')\n",
    "                elif index_finger_tip_x < w/2:\n",
    "                    cv2.putText(image, \"BRAKE\", (500,70), cv2.FONT_HERSHEY_SIMPLEX, 1.5, (255,0,0), 2)\n",
    "                    pyautogui.keyDown('left')\n",
    "                    pyautogui.keyUp('right')\n",
    "        \n",
    "        cv2.imshow('Hand Tracking', image)\n",
    "        if cv2.waitKey(10) & 0xFF == ord('q'):\n",
    "            break\n",
    "    \n",
    "\n",
    "cap.release()\n",
    "cv2.destroyAllWindows()"
   ]
  }
 ],
 "metadata": {
  "kernelspec": {
   "display_name": "Python 3 (ipykernel)",
   "language": "python",
   "name": "python3"
  },
  "language_info": {
   "codemirror_mode": {
    "name": "ipython",
    "version": 3
   },
   "file_extension": ".py",
   "mimetype": "text/x-python",
   "name": "python",
   "nbconvert_exporter": "python",
   "pygments_lexer": "ipython3",
   "version": "3.11.4"
  }
 },
 "nbformat": 4,
 "nbformat_minor": 5
}
